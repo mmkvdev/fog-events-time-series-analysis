{
 "cells": [
  {
   "cell_type": "code",
   "execution_count": null,
   "metadata": {},
   "outputs": [],
   "source": [
    "# creating a time series data frame"
   ]
  },
  {
   "cell_type": "code",
   "execution_count": null,
   "metadata": {},
   "outputs": [],
   "source": [
    "import pandas as pd\n",
    "df = pd.read_excel('1614069210_visibility.xlsx', index_col=0, parse_dates=True)\n",
    "print(df)"
   ]
  },
  {
   "cell_type": "code",
   "execution_count": null,
   "metadata": {},
   "outputs": [],
   "source": [
    "df.shape"
   ]
  },
  {
   "cell_type": "code",
   "execution_count": null,
   "metadata": {},
   "outputs": [],
   "source": [
    "df.head()"
   ]
  },
  {
   "cell_type": "code",
   "execution_count": null,
   "metadata": {},
   "outputs": [],
   "source": [
    "df.tail()"
   ]
  },
  {
   "cell_type": "code",
   "execution_count": null,
   "metadata": {},
   "outputs": [],
   "source": [
    "# the data sheet is recorded from Jan 1 2016 to Dec 31 2020 for every half hour visibility index of the fog"
   ]
  },
  {
   "cell_type": "code",
   "execution_count": null,
   "metadata": {},
   "outputs": [],
   "source": [
    "df.dtypes"
   ]
  },
  {
   "cell_type": "code",
   "execution_count": null,
   "metadata": {},
   "outputs": [],
   "source": [
    "df"
   ]
  },
  {
   "cell_type": "code",
   "execution_count": null,
   "metadata": {},
   "outputs": [],
   "source": [
    "# Add columns with year, month, and weekday name\n",
    "df['Year'] = df.index.year\n",
    "df['Month'] = df.index.month\n",
    "df['Day'] = df.index.day\n",
    "df['Time'] = df.index.time\n",
    "df"
   ]
  },
  {
   "cell_type": "code",
   "execution_count": null,
   "metadata": {},
   "outputs": [],
   "source": [
    "df.index.time"
   ]
  },
  {
   "cell_type": "code",
   "execution_count": null,
   "metadata": {},
   "outputs": [],
   "source": [
    "# time based indexing"
   ]
  },
  {
   "cell_type": "code",
   "execution_count": null,
   "metadata": {},
   "outputs": [],
   "source": [
    "df.loc['2016-01'].head()"
   ]
  },
  {
   "cell_type": "code",
   "execution_count": null,
   "metadata": {},
   "outputs": [],
   "source": [
    "### Data Visualization"
   ]
  },
  {
   "cell_type": "code",
   "execution_count": null,
   "metadata": {},
   "outputs": [],
   "source": [
    "import matplotlib.pyplot as plt"
   ]
  },
  {
   "cell_type": "code",
   "execution_count": null,
   "metadata": {},
   "outputs": [],
   "source": [
    "import seaborn as sns\n",
    "sns.set(rc = {\n",
    "    'figure.figsize': (8,4)\n",
    "})"
   ]
  },
  {
   "cell_type": "code",
   "execution_count": null,
   "metadata": {},
   "outputs": [],
   "source": [
    "df['visibility_km'].plot(linewidth=2)"
   ]
  },
  {
   "cell_type": "code",
   "execution_count": null,
   "metadata": {},
   "outputs": [],
   "source": [
    "import numpy as np"
   ]
  },
  {
   "cell_type": "code",
   "execution_count": null,
   "metadata": {},
   "outputs": [],
   "source": [
    "# Data for plotting\n",
    "t = np.arange(0.0, 2.0, 0.01)\n",
    "s = 1 + np.sin(2 * np.pi * t)\n",
    "\n",
    "fig, ax = plt.subplots()\n",
    "ax.plot(df['Year'], df['visibility_km'])\n",
    "\n",
    "ax.set(xlabel='years', ylabel='visibility_kms',\n",
    "       title='Plotting the fog index based on visibility kms per year')\n",
    "ax.grid()\n",
    "\n",
    "plt.show()"
   ]
  },
  {
   "cell_type": "code",
   "execution_count": null,
   "metadata": {},
   "outputs": [],
   "source": [
    "cols_plot = ['visibility_km']\n",
    "axes = df[cols_plot].plot(marker='.', alpha=0.5, linestyle='None', figsize=(20, 15), subplots=True)\n",
    "for ax in axes:\n",
    "    ax.set_ylabel('visibility index')"
   ]
  },
  {
   "cell_type": "code",
   "execution_count": null,
   "metadata": {},
   "outputs": [],
   "source": [
    "df['visibility_km'].max()"
   ]
  },
  {
   "cell_type": "code",
   "execution_count": null,
   "metadata": {},
   "outputs": [],
   "source": [
    "for i in range(len(df['visibility_km'])):\n",
    "    if df['visibility_km'][i] == df['visibility_km'].max():\n",
    "        print(df['Year'][i])"
   ]
  },
  {
   "cell_type": "code",
   "execution_count": null,
   "metadata": {},
   "outputs": [],
   "source": [
    "df['visibility_km'].loc['2016-09'].max()"
   ]
  },
  {
   "cell_type": "code",
   "execution_count": null,
   "metadata": {},
   "outputs": [],
   "source": [
    "df.index"
   ]
  },
  {
   "cell_type": "code",
   "execution_count": null,
   "metadata": {},
   "outputs": [],
   "source": [
    "sns.regplot(x=df['visibility_km'], y=df['Year'])\n",
    "plt.show()"
   ]
  },
  {
   "cell_type": "code",
   "execution_count": null,
   "metadata": {},
   "outputs": [],
   "source": [
    "sns.jointplot(x=df['visibility_km'], y=df['Year'], kind=\"kde\")"
   ]
  },
  {
   "cell_type": "code",
   "execution_count": null,
   "metadata": {},
   "outputs": [],
   "source": [
    "plt.scatter(df['Year'], df['visibility_km'])\n",
    "plt.xlabel('visibility_index')\n",
    "plt.ylabel('Year')\n",
    "plt.show()"
   ]
  },
  {
   "cell_type": "code",
   "execution_count": null,
   "metadata": {},
   "outputs": [],
   "source": [
    "df.plot(marker='.', alpha=0.5, linestyle='None', figsize=(10, 12), subplots=True)"
   ]
  },
  {
   "cell_type": "code",
   "execution_count": null,
   "metadata": {},
   "outputs": [],
   "source": [
    "import numpy as np\n",
    "import seaborn as sns\n",
    "import matplotlib.pyplot as plt\n",
    "sns.set_theme(style=\"dark\")\n",
    "\n",
    "# Draw a combo histogram and scatterplot with density contours\n",
    "f, ax = plt.subplots(figsize=(6, 6))\n",
    "sns.scatterplot(x=df['Year'], y=df['visibility_km'], s=15, color=\".25\")\n",
    "sns.histplot(x=df['Year'], y=df['visibility_km'], bins=150, pthresh=.1, cmap=\"mako\")\n",
    "sns.kdeplot(x=df['Year'], y=df['visibility_km'], levels=15, color=\"w\", linewidths=1)"
   ]
  },
  {
   "cell_type": "code",
   "execution_count": null,
   "metadata": {},
   "outputs": [],
   "source": [
    "df['visibility_km'].head()"
   ]
  },
  {
   "cell_type": "code",
   "execution_count": null,
   "metadata": {},
   "outputs": [],
   "source": [
    "# Estimate the mean and standard deviation of fog for each month, and show the result using a graph."
   ]
  },
  {
   "cell_type": "code",
   "execution_count": null,
   "metadata": {},
   "outputs": [],
   "source": [
    "df.head()"
   ]
  },
  {
   "cell_type": "code",
   "execution_count": null,
   "metadata": {},
   "outputs": [],
   "source": [
    "np.mean(df['visibility_km'].loc['2016-01'])"
   ]
  },
  {
   "cell_type": "code",
   "execution_count": null,
   "metadata": {},
   "outputs": [],
   "source": [
    "import statistics\n",
    "statistics.mean(df['visibility_km'].loc['2016-1'])"
   ]
  },
  {
   "cell_type": "code",
   "execution_count": null,
   "metadata": {},
   "outputs": [],
   "source": [
    "df['Year'].unique()"
   ]
  },
  {
   "cell_type": "code",
   "execution_count": null,
   "metadata": {},
   "outputs": [],
   "source": [
    "df['Month'].unique()"
   ]
  },
  {
   "cell_type": "code",
   "execution_count": null,
   "metadata": {},
   "outputs": [],
   "source": [
    "fog_records = df['visibility_km']\n",
    "monthly_analysis = dict()\n",
    "\n",
    "months = df['Month'].unique()\n",
    "years = df['Year'].unique()"
   ]
  },
  {
   "cell_type": "code",
   "execution_count": null,
   "metadata": {},
   "outputs": [],
   "source": [
    "result = map(lambda month, year: statistics.mean(fog_records.loc[f'{year}-{month}']), months, years)\n",
    "list(result)"
   ]
  },
  {
   "cell_type": "code",
   "execution_count": null,
   "metadata": {},
   "outputs": [],
   "source": [
    "for i in range(len(years)):\n",
    "    year = years[i]\n",
    "    mean_s = []\n",
    "    for j in range(len(months)):\n",
    "        mean = np.mean(fog_records.loc[f'{years[i]}-{months[j]}'])\n",
    "        mean_s.append(mean)\n",
    "        \n",
    "    \n",
    "    fig, ax = plt.subplots()\n",
    "    # ax.scatter(months, mean_s)\n",
    "    sns.scatterplot(x=months, y=mean_s, s=15, color=\".15\")\n",
    "    ax.set(xlabel='month (s)', ylabel='visibility_kms (mean)',\n",
    "           title=f'{year}')\n",
    "    plt.show()\n",
    "    \n",
    "        # print(years[i], months[j], statistics.mean(fog_records.loc[f'{years[i]}-{months[j]}']))"
   ]
  },
  {
   "cell_type": "code",
   "execution_count": null,
   "metadata": {},
   "outputs": [],
   "source": [
    "mean_s"
   ]
  },
  {
   "cell_type": "code",
   "execution_count": null,
   "metadata": {},
   "outputs": [],
   "source": [
    "f'{years[0]}-{months[0]}'"
   ]
  },
  {
   "cell_type": "code",
   "execution_count": null,
   "metadata": {},
   "outputs": [],
   "source": [
    "from itertools import combinations"
   ]
  },
  {
   "cell_type": "code",
   "execution_count": null,
   "metadata": {},
   "outputs": [],
   "source": [
    "for i, j in combinations(range(0, len(years)), 2):\n",
    "    print(years[i], months[j], statistics.mean(fog_records.loc[f'{years[i]}-{months[j]}']))"
   ]
  },
  {
   "cell_type": "code",
   "execution_count": null,
   "metadata": {},
   "outputs": [],
   "source": [
    "for i in range(len(years)):\n",
    "    mean_si = []\n",
    "    year = years[i]\n",
    "    for j in range(len(months)):\n",
    "        # print(years[i], months[j], np.std(fog_records.loc[f'{years[i]}-{months[j]}']))\n",
    "        mean_i = np.std(fog_records.loc[f'{years[i]}-{months[j]}'])\n",
    "        mean_si.append(mean_i)\n",
    "        \n",
    "    fig, ax = plt.subplots()\n",
    "    # ax.scatter(months, mean_s)\n",
    "    sns.scatterplot(x=months, y=mean_si, s=15, color=\".25\")\n",
    "    ax.set(xlabel='month (s)', ylabel='visibility_kms (std)',\n",
    "           title=f'{year}')\n",
    "    plt.show()"
   ]
  },
  {
   "cell_type": "code",
   "execution_count": null,
   "metadata": {},
   "outputs": [],
   "source": [
    "#A fog event begins when the visibility falls below 1 km and ends when it exceeds 1 km. For the given data,\n",
    "# (a) identify the number of fog-events\n",
    "# (b) calculate the duration of each fog-event."
   ]
  },
  {
   "cell_type": "code",
   "execution_count": null,
   "metadata": {},
   "outputs": [],
   "source": [
    "df['visibility_km'].loc['2016-1'].head()"
   ]
  },
  {
   "cell_type": "code",
   "execution_count": null,
   "metadata": {},
   "outputs": [],
   "source": [
    "df['visibility_km'].loc['2016-1'].tail()"
   ]
  },
  {
   "cell_type": "code",
   "execution_count": null,
   "metadata": {},
   "outputs": [],
   "source": [
    "df.loc['2016-01']"
   ]
  },
  {
   "cell_type": "code",
   "execution_count": null,
   "metadata": {},
   "outputs": [],
   "source": [
    "df['Duration'] = pd.to_datetime(df['Time'], format='%H:%M:%S').dt.hour\n",
    "df"
   ]
  },
  {
   "cell_type": "code",
   "execution_count": null,
   "metadata": {},
   "outputs": [],
   "source": [
    "fog_event_counter = 0\n",
    "duration = []\n",
    "timer = []\n",
    "for i in range(len(years)):\n",
    "    year = years[i]\n",
    "    fog_event = 0\n",
    "    for j in range(len(months)):\n",
    "        month = months[j]\n",
    "        if (fog_records.loc[f'{years[i]}-{months[j]}'].empty == False):\n",
    "            if (fog_records.loc[f'{years[i]}-{months[j]}'] < 1).any():\n",
    "                fog_event = 1\n",
    "                continue\n",
    "            elif (fog_records.loc[f'{years[i]}-{months[j]}'] > 1).any():\n",
    "                fog_event_counter += fog_event\n",
    "                duration.append(df[\"Duration\"].loc[f\"{year}-{month}\"])\n",
    "                timer.append(df[\"Time\"].loc[f\"{year}-{month}\"])\n",
    "                break\n",
    "    fog_event_counter += fog_event_counter"
   ]
  },
  {
   "cell_type": "code",
   "execution_count": null,
   "metadata": {},
   "outputs": [],
   "source": [
    "# Five years of visibility data for a site is attached. Analyze the data to answer the following questions. Plot graphs or tables to support your answer.\n",
    "# Q1. Which months are likely to have fog?\n",
    "# Q2. What is the usual time in a day for a fog event to start?\n",
    "# Q3. What is the usual (average) duration of a fog event?\n",
    "# Q4. The number of fog events at the site has increased or decreased during the last five years."
   ]
  },
  {
   "cell_type": "markdown",
   "metadata": {},
   "source": [
    "### Q1:\n",
    "- Based on the graph for means of different months in the years from 2016 - 2020 we infer that the following months have possibility of incurring fog:\n",
    "    * 2016: June, August and September\n",
    "    * 2017: April, May, July, August and September\n",
    "    * 2018: April, May, August, September\n",
    "    * 2019: May, June, August, September\n",
    "    * 2020: April, May, June, July\n",
    "    \n",
    "- `April`,`May`, `June`, `August`, `September` months have high possibility of fog occurrence"
   ]
  },
  {
   "cell_type": "code",
   "execution_count": null,
   "metadata": {},
   "outputs": [],
   "source": [
    "### Q2:\n",
    "import datetime\n",
    "for i in range(len(timer)):\n",
    "    max_timer = timer[i].max()\n",
    "\n",
    "### Approximately the usual time for a fog event to start is `11am`\n"
   ]
  },
  {
   "cell_type": "code",
   "execution_count": null,
   "metadata": {},
   "outputs": [],
   "source": [
    "### Q3:\n",
    "### Based on the mean of the fog event data we have:\n",
    "sum = 0\n",
    "for i in range(len(duration)):\n",
    "    sum += statistics.mean(duration[i])\n",
    "fog_event_duration = sum/len(duration)\n",
    "\n",
    "### Approximately the time of fog_event occurrence is `11 minutes and 30 seconds`"
   ]
  },
  {
   "cell_type": "markdown",
   "metadata": {},
   "source": [
    "### Q4:\n",
    "Based on the graph trends, it's obvious that the fog events have decreased significantly probably because of the increasing temperatures."
   ]
  }
 ],
 "metadata": {
  "kernelspec": {
   "display_name": "Python 3",
   "language": "python",
   "name": "python3"
  },
  "language_info": {
   "codemirror_mode": {
    "name": "ipython",
    "version": 3
   },
   "file_extension": ".py",
   "mimetype": "text/x-python",
   "name": "python",
   "nbconvert_exporter": "python",
   "pygments_lexer": "ipython3",
   "version": "3.8.5"
  }
 },
 "nbformat": 4,
 "nbformat_minor": 4
}
